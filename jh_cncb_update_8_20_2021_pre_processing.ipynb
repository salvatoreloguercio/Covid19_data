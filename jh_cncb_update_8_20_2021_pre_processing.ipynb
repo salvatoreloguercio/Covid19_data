{
 "cells": [
  {
   "cell_type": "markdown",
   "metadata": {},
   "source": [
    "## Notebook to generate mutation dataset for everyday cumulative between time points - PRE-PROCESSING\n",
    "## Covid Dataset update 8-20-21\n",
    "## Normalization: v4 with lagged FR (3/21)"
   ]
  },
  {
   "cell_type": "code",
   "execution_count": 1,
   "metadata": {},
   "outputs": [],
   "source": [
    "import pandas as pd\n",
    "import numpy as np\n",
    "import os\n",
    "from tqdm import tqdm\n",
    "import matplotlib.pyplot as plt\n",
    "import seaborn as sns\n",
    "from collections import Counter\n",
    "from datetime import datetime as dt\n",
    "from datetime import timedelta\n",
    "from scipy.signal import lfilter\n",
    "import pickle as pickle\n",
    "import sys"
   ]
  },
  {
   "cell_type": "markdown",
   "metadata": {},
   "source": [
    "### JH Time Series Data\n",
    "\n",
    "* Time series data is cumulative per column"
   ]
  },
  {
   "cell_type": "code",
   "execution_count": 2,
   "metadata": {},
   "outputs": [],
   "source": [
    "date_start = '01/23/20'\n",
    "date_up_to = '08/20/21'\n",
    "jh_path = '../../COVID-19/csse_covid_19_data/csse_covid_19_time_series/'\n",
    "confirmed_global = 'time_series_covid19_confirmed_global.csv'\n",
    "deaths_global = 'time_series_covid19_deaths_global.csv'\n",
    "\n",
    "confirmed = pd.read_csv(jh_path+confirmed_global)\n",
    "deaths = pd.read_csv(jh_path+deaths_global)\n",
    "\n",
    "#Need to adjust country names to match those in CNCB\n",
    "confirmed.loc[confirmed['Country/Region']=='Taiwan*','Country/Region'] = 'Taiwan'\n",
    "confirmed.loc[confirmed['Country/Region']=='US','Country/Region'] = 'United States'\n",
    "confirmed.loc[confirmed['Country/Region']=='Congo (Kinshasa)','Country/Region'] = 'Democratic Republic of the Congo'\n",
    "confirmed.loc[confirmed['Country/Region']=='Korea, South','Country/Region'] = 'South Korea'\n",
    "confirmed.loc[confirmed['Country/Region']=='Czechia','Country/Region'] = 'Czech Republic'\n",
    "confirmed.loc[confirmed['Country/Region']=='Burma','Country/Region'] = 'myanmar'\n",
    "confirmed.loc[confirmed['Country/Region']=='Congo (Brazzaville)','Country/Region'] = 'republic of the congo'\n",
    "confirmed.loc[confirmed['Country/Region']==\"Cote d'Ivoire\",'Country/Region'] = 'cotedivoire'\n",
    "\n",
    "confirmed['Country/Region'] = confirmed['Country/Region'].str.lower()\n",
    "confirmed.set_index('Country/Region',inplace=True)\n",
    "\n",
    "\n",
    "deaths.loc[deaths['Country/Region']=='US','Country/Region'] = 'United States'\n",
    "deaths.loc[deaths['Country/Region']=='Congo (Kinshasa)','Country/Region'] = 'Democratic Republic of the Congo'\n",
    "deaths.loc[deaths['Country/Region']=='Korea, South','Country/Region'] = 'South Korea'\n",
    "deaths.loc[deaths['Country/Region']=='Czechia','Country/Region'] = 'Czech Republic'\n",
    "deaths.loc[deaths['Country/Region']=='Burma','Country/Region'] = 'myanmar'\n",
    "deaths.loc[deaths['Country/Region']=='Congo (Brazzaville)','Country/Region'] = 'republic of the congo'\n",
    "deaths.loc[deaths['Country/Region']==\"Cote d'Ivoire\",'Country/Region'] = 'cotedivoire'\n",
    "\n",
    "deaths['Country/Region'] = deaths['Country/Region'].str.lower()\n",
    "deaths.set_index('Country/Region',inplace=True)"
   ]
  },
  {
   "cell_type": "code",
   "execution_count": 10,
   "metadata": {},
   "outputs": [],
   "source": [
    "with open(f\"../Input_files/confirmed_8_20_21.pkl\",'wb') as file:\n",
    "    pickle.dump(confirmed,file,protocol=pickle.HIGHEST_PROTOCOL)\n",
    "    \n",
    "with open(f\"../Input_files/deaths_8_20_21.pkl\",'wb') as file:\n",
    "    pickle.dump(deaths,file,protocol=pickle.HIGHEST_PROTOCOL)"
   ]
  },
  {
   "cell_type": "markdown",
   "metadata": {},
   "source": [
    "### Need other data table for population number\n",
    "* doesn't matter for date as long as all the countries are covered, only getting population number"
   ]
  },
  {
   "cell_type": "code",
   "execution_count": 3,
   "metadata": {},
   "outputs": [],
   "source": [
    "date = '08-20-2021.csv'\n",
    "jh_path = '../../COVID-19/csse_covid_19_data/csse_covid_19_daily_reports/'\n",
    "jh_data = pd.read_csv(jh_path+date)\n",
    "\n",
    "#drop rows that have nans for incidence rate\n",
    "jh_data = jh_data[~jh_data['Incident_Rate'].isnull()]\n",
    "jh_data = jh_data[jh_data['Incident_Rate']!=0]\n",
    "\n",
    "#matching countries of jh data to that of cncb countries\n",
    "jh_data.loc[jh_data['Country_Region']=='Taiwan*','Country_Region'] = 'Taiwan'\n",
    "jh_data.loc[jh_data['Country_Region']=='US','Country_Region'] = 'United States'\n",
    "jh_data.loc[jh_data['Country_Region']=='Korea, South','Country_Region'] = 'South Korea'\n",
    "jh_data.loc[jh_data['Country_Region']=='Czechia','Country_Region'] = 'Czech Republic'\n",
    "jh_data.loc[jh_data['Country_Region']=='Burma','Country_Region'] = 'myanmar'\n",
    "jh_data.loc[jh_data['Country_Region']=='Congo (Kinshasa)','Country_Region'] = 'Democratic Republic of the Congo'\n",
    "jh_data.loc[jh_data['Country_Region']=='Congo (Brazzaville)','Country_Region'] = 'republic of the congo'\n",
    "jh_data.loc[jh_data['Country_Region']==\"Cote d'Ivoire\",'Country_Region'] = 'cotedivoire'\n",
    "\n",
    "# Population is back calculated through the incident rate number: \n",
    "# population = confirmed_cases/incident_rate_per100k * 100,000 \n",
    "jh_data['Population'] = np.ceil(jh_data['Confirmed']/jh_data['Incident_Rate']*100000)\n",
    "jh_data['Country_Region'] = jh_data['Country_Region'].str.lower()"
   ]
  },
  {
   "cell_type": "code",
   "execution_count": 11,
   "metadata": {},
   "outputs": [],
   "source": [
    "with open(f\"../Input_files/jh_data_8_20_21.pkl\",'wb') as file:\n",
    "    pickle.dump(jh_data,file,protocol=pickle.HIGHEST_PROTOCOL)"
   ]
  },
  {
   "cell_type": "markdown",
   "metadata": {},
   "source": [
    "### CNCB Genome Meta Data"
   ]
  },
  {
   "cell_type": "code",
   "execution_count": 12,
   "metadata": {},
   "outputs": [
    {
     "name": "stdout",
     "output_type": "stream",
     "text": [
      "(1130483, 9)\n"
     ]
    }
   ],
   "source": [
    "#cncb meta, need to match countries\n",
    "# issues: 1) `Host instead of Host; 2) Submission date and Submitting lab swapped\n",
    "column_names = ['Virus Strain Name','Accession ID','Related ID','Nuc.Completeness','Sequence Quality','`Host','Location','Sample Collection Date','Submission Date']\n",
    "meta=pd.read_table('../Input_files/metadata_5_25_21.tsv',usecols=column_names,index_col=1) # usecols=column_names,\n",
    "\n",
    "meta.rename(columns = {'`Host':'Host','Submission Date':'Submitting Lab'}, inplace = True)\n",
    "\n",
    "meta.fillna(' ',inplace=True)\n",
    "\n",
    "#Remove low quality and partial reads, pretty sure cncb does not run variant annotation for these anyways\n",
    "meta = meta[meta['Sequence Quality']!='Low']\n",
    "meta = meta[meta['Nuc.Completeness']!='Partial']\n",
    "\n",
    "#set country column and lowercase\n",
    "meta['Country'] = meta['Location'].str.split('/').str[0].str.strip()\n",
    "meta['Country'] = meta['Country'].str.lower()\n",
    "\n",
    "#Adjust country typos\n",
    "\n",
    "meta.loc[meta['Country']=='?romania','Country'] = 'romania'\n",
    "meta.loc[meta['Country']=='viet nam','Country'] = 'vietnam'\n",
    "meta.loc[meta['Country']=='czech repubic','Country'] = 'czech republic'\n",
    "meta.loc[meta['Country']=='ivory coast','Country'] = 'cotedivoire'\n",
    "\n",
    "meta.loc[meta['Country']=='blegium','Country'] = 'belgium'\n",
    "meta.loc[meta['Country']=='frnace','Country'] = 'france'\n",
    "meta.loc[meta['Country']=='morocoo','Country'] = 'morocco'\n",
    "meta.loc[meta['Country']=='mosambik','Country'] = 'mozambique'\n",
    "meta.loc[meta['Country']=='congo','Country'] = 'democratic republic of the congo'\n",
    "meta.loc[meta['Country']=='guinea bissau','Country'] = 'guinea-bissau'\n",
    "\n",
    "\n",
    "# #Remove Crimea and Palestine\n",
    "meta = meta[meta['Country']!='crimea']\n",
    "meta = meta[meta['Country']!='palestine']\n",
    "meta = meta[meta['Country']!='sint maarten']\n",
    "meta = meta[meta['Country']!='french guiana']\n",
    "meta = meta[meta['Country']!='guadeloupe']\n",
    "\n",
    "#Filter using date as well\n",
    "meta = meta[meta['Sample Collection Date']!='2020-00-00'] #bad dates in there\n",
    "meta.loc[:,'Sample Collection Date'] = pd.to_datetime(meta['Sample Collection Date'], yearfirst=True)\n",
    "dt_date_up_to = dt.strptime(date_up_to, \"%m/%d/%y\")\n",
    "dt_date_start = dt.strptime(date_start, \"%m/%d/%y\")\n",
    "meta = meta[(meta.loc[:,'Sample Collection Date']<dt_date_up_to) & (meta.loc[:,'Sample Collection Date']>dt_date_start)]\n",
    "\n",
    "print(meta.shape)"
   ]
  },
  {
   "cell_type": "markdown",
   "metadata": {},
   "source": [
    "Save meta df "
   ]
  },
  {
   "cell_type": "code",
   "execution_count": 14,
   "metadata": {},
   "outputs": [],
   "source": [
    "meta.to_pickle(\"../Input_files/meta_8_20_21.pkl\",protocol=pickle.HIGHEST_PROTOCOL)"
   ]
  },
  {
   "cell_type": "code",
   "execution_count": null,
   "metadata": {},
   "outputs": [],
   "source": [
    "########################\n",
    "########################"
   ]
  },
  {
   "cell_type": "code",
   "execution_count": 3,
   "metadata": {},
   "outputs": [],
   "source": [
    "#with open(f\"meta_2_22_21.pkl\",'rb') as file:\n",
    "#    meta = pickle.load(file)\n",
    "#with open(f\"../Input_files/jh_data_5_25_21.pkl\",'rb') as file:\n",
    " #   jh_data=pickle.load(file)\n",
    "    \n",
    "#with open(f\"../Input_files/meta_5_25_21.pkl\",'rb') as file:\n",
    "#    meta = pickle.load(file)\n"
   ]
  },
  {
   "cell_type": "markdown",
   "metadata": {},
   "source": [
    "### If there is a missing country in set difference, there will be nan data in output"
   ]
  },
  {
   "cell_type": "code",
   "execution_count": 13,
   "metadata": {},
   "outputs": [
    {
     "data": {
      "text/plain": [
       "set()"
      ]
     },
     "execution_count": 13,
     "metadata": {},
     "output_type": "execute_result"
    }
   ],
   "source": [
    "set(meta['Country'])-set(confirmed.index.str.lower())"
   ]
  },
  {
   "cell_type": "code",
   "execution_count": 4,
   "metadata": {},
   "outputs": [
    {
     "data": {
      "text/plain": [
       "142"
      ]
     },
     "execution_count": 4,
     "metadata": {},
     "output_type": "execute_result"
    }
   ],
   "source": [
    "len(set(meta['Country']))"
   ]
  },
  {
   "cell_type": "markdown",
   "metadata": {},
   "source": [
    "### Using Infections per 100k and Fatality percentage\n",
    "* Create IR/FR for all days. Cumulative up to that day."
   ]
  },
  {
   "cell_type": "code",
   "execution_count": 5,
   "metadata": {},
   "outputs": [],
   "source": [
    "jh_daily_ir = pd.DataFrame(columns=pd.to_datetime(confirmed.columns[4::])) #start from the second date because we take difference between dates\n",
    "jh_daily_fr = pd.DataFrame(columns=pd.to_datetime(confirmed.columns[4::]))\n",
    "country_daily_cts = pd.DataFrame(columns=pd.to_datetime(confirmed.columns[4::]))\n",
    "country_death_cts = pd.DataFrame(columns=pd.to_datetime(confirmed.columns[4::]))\n",
    "\n",
    "jh_daily_cases = pd.DataFrame(columns=pd.to_datetime(confirmed.columns[4::])) #start from the second date because we take difference between dates\n",
    "jh_daily_deaths = pd.DataFrame(columns=pd.to_datetime(confirmed.columns[4::]))\n",
    "\n",
    "jh_country_lvl = pd.DataFrame(columns=['cases','deaths','population'])\n",
    "\n",
    "for country in set(meta['Country'].str.lower()):\n",
    "    population = jh_data.loc[jh_data['Country_Region']==country,'Population'].sum()\n",
    "    summed_cases = confirmed.loc[confirmed.index==country,date_up_to].sum()\n",
    "    summed_deaths = deaths.loc[deaths.index==country,date_up_to].sum()\n",
    "    jh_country_lvl.loc[country] = [summed_cases,summed_deaths,population]\n",
    "    \n",
    "    cases_timeperiod = 1+confirmed.loc[confirmed.index==country].iloc[:,4::].sum().values\n",
    "    deaths_timeperiod = deaths.loc[deaths.index==country].iloc[:,4::].sum().values\n",
    "    jh_daily_ir.loc[country] = cases_timeperiod / population * 100000\n",
    "    jh_daily_fr.loc[country] = np.nan_to_num(deaths_timeperiod / cases_timeperiod) * 100\n",
    "    country_daily_cts.loc[country] = (confirmed.loc[[country]].iloc[:,4::].sum().values-confirmed.loc[[country]].iloc[:,3:-1].sum().values).clip(min=0)\n",
    "    country_death_cts.loc[country] = (deaths.loc[[country]].iloc[:,4::].sum().values-deaths.loc[[country]].iloc[:,3:-1].sum().values).clip(min=0)\n",
    "\n",
    "    jh_daily_cases.loc[country] = confirmed.loc[confirmed.index==country].iloc[:,4::].sum().values\n",
    "    jh_daily_deaths.loc[country] = np.nan_to_num(deaths_timeperiod)\n",
    "    \n",
    "jh_country_lvl.sort_index(inplace=True)\n",
    "jh_daily_ir.sort_index(inplace=True)\n",
    "jh_daily_fr.sort_index(inplace=True)\n",
    "jh_daily_cases.sort_index(inplace=True)\n",
    "jh_daily_deaths.sort_index(inplace=True)"
   ]
  },
  {
   "cell_type": "code",
   "execution_count": 17,
   "metadata": {},
   "outputs": [],
   "source": [
    "jh_daily_ir.to_csv(f\"../Output Files/daily_counts/daily_ir_{dt.today().strftime('%m_%d_%y')}.csv\")\n",
    "jh_daily_fr.to_csv(f\"../Output Files/daily_counts/daily_fr_{dt.today().strftime('%m_%d_%y')}.csv\")\n",
    "country_daily_cts.to_csv(f\"../Output Files/daily_counts/daily_cases_{dt.today().strftime('%m_%d_%y')}.csv\")\n",
    "country_death_cts.to_csv(f\"../Output Files/daily_counts/daily_deaths_{dt.today().strftime('%m_%d_%y')}.csv\")"
   ]
  },
  {
   "cell_type": "code",
   "execution_count": 21,
   "metadata": {},
   "outputs": [],
   "source": [
    "jh_daily_ir.to_pickle(\"../Input_files/jh_daily_ir_05_25_21.pkl\",protocol=pickle.HIGHEST_PROTOCOL)"
   ]
  },
  {
   "cell_type": "code",
   "execution_count": 6,
   "metadata": {},
   "outputs": [],
   "source": [
    "jh_daily_cases.to_pickle(\"../Input_files/jh_daily_cases_05_25_21.pkl\",protocol=pickle.HIGHEST_PROTOCOL)"
   ]
  },
  {
   "cell_type": "code",
   "execution_count": 7,
   "metadata": {},
   "outputs": [],
   "source": [
    "jh_daily_deaths.to_pickle(\"../Input_files/jh_daily_deaths_05_25_21.pkl\",protocol=pickle.HIGHEST_PROTOCOL)"
   ]
  },
  {
   "cell_type": "markdown",
   "metadata": {},
   "source": [
    "### Parsing gff3 files -> standalone py script\n",
    "* Aggregate_mutations0.py\n",
    "\n",
    "`./run_py_slurm.sh aggregated_mutations0.py | sbatch`"
   ]
  },
  {
   "cell_type": "code",
   "execution_count": null,
   "metadata": {},
   "outputs": [],
   "source": []
  }
 ],
 "metadata": {
  "kernelspec": {
   "display_name": "Python 3",
   "language": "python",
   "name": "python3"
  },
  "language_info": {
   "codemirror_mode": {
    "name": "ipython",
    "version": 3
   },
   "file_extension": ".py",
   "mimetype": "text/x-python",
   "name": "python",
   "nbconvert_exporter": "python",
   "pygments_lexer": "ipython3",
   "version": "3.8.3"
  }
 },
 "nbformat": 4,
 "nbformat_minor": 4
}
